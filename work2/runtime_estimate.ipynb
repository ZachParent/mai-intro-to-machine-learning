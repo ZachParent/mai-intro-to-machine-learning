{
 "cells": [
  {
   "cell_type": "code",
   "execution_count": 1,
   "metadata": {},
   "outputs": [
    {
     "data": {
      "text/html": [
       "<div>\n",
       "<style scoped>\n",
       "    .dataframe tbody tr th:only-of-type {\n",
       "        vertical-align: middle;\n",
       "    }\n",
       "\n",
       "    .dataframe tbody tr th {\n",
       "        vertical-align: top;\n",
       "    }\n",
       "\n",
       "    .dataframe thead th {\n",
       "        text-align: right;\n",
       "    }\n",
       "</style>\n",
       "<table border=\"1\" class=\"dataframe\">\n",
       "  <thead>\n",
       "    <tr style=\"text-align: right;\">\n",
       "      <th></th>\n",
       "      <th>time_per_fold (s)</th>\n",
       "      <th>n_folds</th>\n",
       "      <th>n_k</th>\n",
       "      <th>n_distance_funcs</th>\n",
       "      <th>n_voting_funcs</th>\n",
       "      <th>n_weight_lists</th>\n",
       "      <th>total_time (s)</th>\n",
       "      <th>total_time (min)</th>\n",
       "    </tr>\n",
       "  </thead>\n",
       "  <tbody>\n",
       "    <tr>\n",
       "      <th>0</th>\n",
       "      <td>15.0</td>\n",
       "      <td>10</td>\n",
       "      <td>4</td>\n",
       "      <td>2</td>\n",
       "      <td>3</td>\n",
       "      <td>1</td>\n",
       "      <td>3600.0</td>\n",
       "      <td>60.0</td>\n",
       "    </tr>\n",
       "  </tbody>\n",
       "</table>\n",
       "</div>"
      ],
      "text/plain": [
       "   time_per_fold (s)  n_folds  n_k  n_distance_funcs  n_voting_funcs  \\\n",
       "0               15.0       10    4                 2               3   \n",
       "\n",
       "   n_weight_lists  total_time (s)  total_time (min)  \n",
       "0               1          3600.0              60.0  "
      ]
     },
     "execution_count": 1,
     "metadata": {},
     "output_type": "execute_result"
    }
   ],
   "source": [
    "import pandas as pd\n",
    "\n",
    "df = pd.DataFrame(\n",
    "    {\n",
    "        \"time_per_fold (s)\": [15.0],\n",
    "        \"n_folds\": [10],\n",
    "        \"n_k\": [4],\n",
    "        \"n_distance_funcs\": [2],\n",
    "        \"n_voting_funcs\": [3],\n",
    "        \"n_weight_lists\": [1],\n",
    "    }\n",
    ")\n",
    "\n",
    "df[\"total_time (s)\"] = (\n",
    "    df[\"time_per_fold (s)\"]\n",
    "    * df[\"n_folds\"]\n",
    "    * df[\"n_k\"]\n",
    "    * df[\"n_distance_funcs\"]\n",
    "    * df[\"n_voting_funcs\"]\n",
    "    * df[\"n_weight_lists\"]\n",
    ")\n",
    "df[\"total_time (min)\"] = df[\"total_time (s)\"] / 60\n",
    "\n",
    "df"
   ]
  }
 ],
 "metadata": {
  "kernelspec": {
   "display_name": ".venv-iml",
   "language": "python",
   "name": "python3"
  },
  "language_info": {
   "codemirror_mode": {
    "name": "ipython",
    "version": 3
   },
   "file_extension": ".py",
   "mimetype": "text/x-python",
   "name": "python",
   "nbconvert_exporter": "python",
   "pygments_lexer": "ipython3",
   "version": "3.9.20"
  }
 },
 "nbformat": 4,
 "nbformat_minor": 2
}
