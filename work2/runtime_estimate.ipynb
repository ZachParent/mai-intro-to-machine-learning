{
 "cells": [
  {
   "cell_type": "code",
   "execution_count": 1,
   "metadata": {},
   "outputs": [
    {
     "data": {
      "text/html": [
       "<div>\n",
       "<style scoped>\n",
       "    .dataframe tbody tr th:only-of-type {\n",
       "        vertical-align: middle;\n",
       "    }\n",
       "\n",
       "    .dataframe tbody tr th {\n",
       "        vertical-align: top;\n",
       "    }\n",
       "\n",
       "    .dataframe thead th {\n",
       "        text-align: right;\n",
       "    }\n",
       "</style>\n",
       "<table border=\"1\" class=\"dataframe\">\n",
       "  <thead>\n",
       "    <tr style=\"text-align: right;\">\n",
       "      <th></th>\n",
       "      <th>n_k</th>\n",
       "      <th>n_distance_funcs</th>\n",
       "      <th>n_voting_funcs</th>\n",
       "      <th>n_weight_lists</th>\n",
       "      <th>n_models</th>\n",
       "    </tr>\n",
       "  </thead>\n",
       "  <tbody>\n",
       "    <tr>\n",
       "      <th>0</th>\n",
       "      <td>4</td>\n",
       "      <td>2</td>\n",
       "      <td>3</td>\n",
       "      <td>3</td>\n",
       "      <td>72</td>\n",
       "    </tr>\n",
       "  </tbody>\n",
       "</table>\n",
       "</div>"
      ],
      "text/plain": [
       "   n_k  n_distance_funcs  n_voting_funcs  n_weight_lists  n_models\n",
       "0    4                 2               3               3        72"
      ]
     },
     "execution_count": 1,
     "metadata": {},
     "output_type": "execute_result"
    }
   ],
   "source": [
    "import pandas as pd\n",
    "\n",
    "model_df = pd.DataFrame(\n",
    "    {\n",
    "        \"n_k\": [4],\n",
    "        \"n_distance_funcs\": [2],\n",
    "        \"n_voting_funcs\": [3],\n",
    "        \"n_weight_lists\": [3],\n",
    "    }\n",
    ")\n",
    "model_df[\"n_models\"] = (\n",
    "    model_df[\"n_k\"]\n",
    "    * model_df[\"n_distance_funcs\"]\n",
    "    * model_df[\"n_voting_funcs\"]\n",
    "    * model_df[\"n_weight_lists\"]\n",
    ")\n",
    "\n",
    "model_df"
   ]
  },
  {
   "cell_type": "code",
   "execution_count": 2,
   "metadata": {},
   "outputs": [
    {
     "data": {
      "text/html": [
       "<div>\n",
       "<style scoped>\n",
       "    .dataframe tbody tr th:only-of-type {\n",
       "        vertical-align: middle;\n",
       "    }\n",
       "\n",
       "    .dataframe tbody tr th {\n",
       "        vertical-align: top;\n",
       "    }\n",
       "\n",
       "    .dataframe thead th {\n",
       "        text-align: right;\n",
       "    }\n",
       "</style>\n",
       "<table border=\"1\" class=\"dataframe\">\n",
       "  <thead>\n",
       "    <tr style=\"text-align: right;\">\n",
       "      <th></th>\n",
       "      <th>time_per_fold (s)</th>\n",
       "      <th>n_folds</th>\n",
       "      <th>n_models</th>\n",
       "      <th>total_time (s)</th>\n",
       "      <th>total_time (min)</th>\n",
       "      <th>total_time (hr)</th>\n",
       "    </tr>\n",
       "  </thead>\n",
       "  <tbody>\n",
       "    <tr>\n",
       "      <th>0</th>\n",
       "      <td>15.0</td>\n",
       "      <td>10</td>\n",
       "      <td>72</td>\n",
       "      <td>10800.0</td>\n",
       "      <td>180.0</td>\n",
       "      <td>3.0</td>\n",
       "    </tr>\n",
       "  </tbody>\n",
       "</table>\n",
       "</div>"
      ],
      "text/plain": [
       "   time_per_fold (s)  n_folds  n_models  total_time (s)  total_time (min)  \\\n",
       "0               15.0       10        72         10800.0             180.0   \n",
       "\n",
       "   total_time (hr)  \n",
       "0              3.0  "
      ]
     },
     "execution_count": 2,
     "metadata": {},
     "output_type": "execute_result"
    }
   ],
   "source": [
    "runtime_df = pd.DataFrame(\n",
    "    {\n",
    "        \"time_per_fold (s)\": [15.0],\n",
    "        \"n_folds\": [10],\n",
    "        \"n_models\": [model_df[\"n_models\"][0]],\n",
    "    }\n",
    ")\n",
    "\n",
    "runtime_df[\"total_time (s)\"] = (\n",
    "    runtime_df[\"time_per_fold (s)\"] * runtime_df[\"n_folds\"] * runtime_df[\"n_models\"]\n",
    ")\n",
    "runtime_df[\"total_time (min)\"] = runtime_df[\"total_time (s)\"] / 60\n",
    "runtime_df[\"total_time (hr)\"] = runtime_df[\"total_time (min)\"] / 60\n",
    "\n",
    "runtime_df"
   ]
  }
 ],
 "metadata": {
  "kernelspec": {
   "display_name": ".venv-iml",
   "language": "python",
   "name": "python3"
  },
  "language_info": {
   "codemirror_mode": {
    "name": "ipython",
    "version": 3
   },
   "file_extension": ".py",
   "mimetype": "text/x-python",
   "name": "python",
   "nbconvert_exporter": "python",
   "pygments_lexer": "ipython3",
   "version": "3.9.20"
  }
 },
 "nbformat": 4,
 "nbformat_minor": 2
}
