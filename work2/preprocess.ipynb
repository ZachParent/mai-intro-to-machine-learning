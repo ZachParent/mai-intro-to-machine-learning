{
 "cells": [
  {
   "metadata": {},
   "cell_type": "markdown",
   "source": "## Imports"
  },
  {
   "metadata": {
    "ExecuteTime": {
     "end_time": "2024-10-05T17:01:24.127427Z",
     "start_time": "2024-10-05T17:01:24.122847Z"
    }
   },
   "cell_type": "code",
   "outputs": [],
   "execution_count": 5,
   "source": [
    "from scipy.io import arff\n",
    "import numpy as np\n",
    "import pandas as pd\n",
    "import scipy\n",
    "import sklearn\n",
    "import matplotlib.pyplot as plt\n",
    "import seaborn as sns\n",
    "import os"
   ]
  },
  {
   "metadata": {},
   "cell_type": "markdown",
   "source": "## Data"
  },
  {
   "metadata": {},
   "cell_type": "code",
   "outputs": [],
   "execution_count": null,
   "source": [
    "# Function to load and combine ARFF files from a given dataset directory\n",
    "def load_and_combine_arff_files(dataset_directory):\n",
    "    # Get the current working directory\n",
    "    current_directory = os.getcwd()\n",
    "    \n",
    "    # Join the current directory with the dataset directory\n",
    "    full_directory = os.path.join(current_directory, dataset_directory.lstrip('/'))\n",
    "\n",
    "    # Initialize list to hold all the combined data\n",
    "    all_data = []\n",
    "\n",
    "    # Loop through the files in the directory\n",
    "    for filename in os.listdir(full_directory):\n",
    "        # Check if the file is an ARFF file and contains 'train' or 'test' in the name\n",
    "        if filename.endswith(\".arff\"):\n",
    "            filepath = os.path.join(full_directory, filename)\n",
    "            \n",
    "            # Load the ARFF file\n",
    "            data, meta = arff.loadarff(filepath)\n",
    "            \n",
    "            # Convert to DataFrame and decode byte strings\n",
    "            df = pd.DataFrame(data)\n",
    "            df = df.map(lambda x: x.decode() if isinstance(x, bytes) else x)\n",
    "            \n",
    "            # Extract fold number and file type (train/test) from the filename\n",
    "            fold_number = int(filename.split('.')[2])  # '000001' becomes 1\n",
    "            file_type = filename.split('.')[3]  # 'test' or 'train'\n",
    "            \n",
    "            # Add columns to indicate fold number and whether it's train or test data\n",
    "            df['fold'] = fold_number\n",
    "            df['set'] = 'train' if file_type == 'train' else 'test'\n",
    "            \n",
    "            # Append to the list\n",
    "            all_data.append(df)\n",
    "\n",
    "    # Concatenate all DataFrames into a single DataFrame\n",
    "    combined_df = pd.concat(all_data, ignore_index=True)\n",
    "    \n",
    "    return combined_df\n",
    "\n",
    "# Combine mushroom dataset\n",
    "mushroom_dataset_directory = '/datasetsCBR/mushroom'\n",
    "df_combined_mushroom = load_and_combine_arff_files(mushroom_dataset_directory)\n",
    "\n",
    "# Combine hepatitis dataset\n",
    "hepatitis_dataset_directory = '/datasetsCBR/hepatitis'\n",
    "df_combined_hepatitis = load_and_combine_arff_files(hepatitis_dataset_directory)\n"
   ]
  },
  {
   "metadata": {},
   "cell_type": "markdown",
   "source": "## Data Pre-Processing "
  },
  {
   "metadata": {},
   "cell_type": "markdown",
   "source": "### Different Ranges"
  },
  {
   "metadata": {},
   "cell_type": "code",
   "outputs": [],
   "execution_count": null,
   "source": "# TODO"
  },
  {
   "metadata": {},
   "cell_type": "markdown",
   "source": "### Different Types"
  },
  {
   "metadata": {},
   "cell_type": "code",
   "outputs": [],
   "execution_count": null,
   "source": "# TODO"
  },
  {
   "metadata": {},
   "cell_type": "markdown",
   "source": "### Missing Values"
  },
  {
   "metadata": {},
   "cell_type": "code",
   "outputs": [],
   "execution_count": null,
   "source": "# TODO"
  }
 ],
 "metadata": {
  "kernelspec": {
   "display_name": ".venv-iml",
   "language": "python",
   "name": "python3"
  },
  "language_info": {
   "codemirror_mode": {
    "name": "ipython",
    "version": 3
   },
   "file_extension": ".py",
   "mimetype": "text/x-python",
   "name": "python",
   "nbconvert_exporter": "python",
   "pygments_lexer": "ipython3",
   "version": "3.9.20"
  }
 },
 "nbformat": 4,
 "nbformat_minor": 2
}
