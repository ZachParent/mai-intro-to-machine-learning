{
 "cells": [
  {
   "cell_type": "code",
   "execution_count": 1,
   "metadata": {},
   "outputs": [],
   "source": [
    "import numpy as np\n",
    "import pandas as pd\n",
    "import seaborn as sns\n",
    "import matplotlib.pyplot as plt"
   ]
  },
  {
   "cell_type": "code",
   "execution_count": 2,
   "metadata": {},
   "outputs": [],
   "source": [
    "knn_results_hepatitis = pd.read_csv(\"../data/cross_validated_results/knn_hepatitis.csv\")\n",
    "knn_results_mushroom = pd.read_csv(\"../data/cross_validated_results/knn_mushroom.csv\")\n",
    "knn_reduction_results_hepatitis = pd.read_csv(\"../data/cross_validated_results/knn_reduction_hepatitis.csv\")\n",
    "knn_reduction_results_mushroom = pd.read_csv(\"../data/cross_validated_results/knn_reduction_mushroom.csv\")\n",
    "svm_results_hepatitis = pd.read_csv(\"../data/cross_validated_results/svm_hepatitis.csv\")\n",
    "svm_results_mushroom = pd.read_csv(\"../data/cross_validated_results/svm_mushroom.csv\")"
   ]
  },
  {
   "cell_type": "code",
   "execution_count": 3,
   "metadata": {},
   "outputs": [],
   "source": [
    "def write_latex_table(df, columns, filename, caption, sort_by=\"f1\"):\n",
    "    df = (\n",
    "        df.sort_values(by=sort_by, ascending=False)\n",
    "        .reset_index(drop=True)\n",
    "        .assign(**{\"\": lambda x: x.index + 1})\n",
    "        .loc[:, [\"\"] + columns]\n",
    "        .head(10)\n",
    "        .rename(columns=lambda x: x.replace(\"_\", \" \"))\n",
    "    )\n",
    "    s = df.style\n",
    "    # s.clear()\n",
    "    s.table_styles = []\n",
    "    s.caption = caption\n",
    "    s.format(\n",
    "        precision=3,\n",
    "    )\n",
    "    s.hide(level=0, axis=0)\n",
    "    latex_table = s.to_latex(position_float=\"centering\",\n",
    "                             multicol_align=\"|c|\",\n",
    "                             hrules=True,\n",
    "                             label=f\"tab:{filename}\",\n",
    "                             )\n",
    "    with open(f\"../reports/tables/{filename}.tex\", \"w\") as f:\n",
    "        f.write(latex_table)"
   ]
  },
  {
   "cell_type": "code",
   "execution_count": 4,
   "metadata": {},
   "outputs": [],
   "source": [
    "knn_columns = [\"k\", \"distance_func\", \"voting_func\", \"weighting_func\", \"accuracy\", \"f1\"]\n",
    "svm_columns = [\"C\", \"kernel_type\", \"accuracy\", \"f1\"]\n",
    "reduction_knn_columns = [\n",
    "    \"k\",\n",
    "    \"reduction_func\",\n",
    "    \"accuracy\",\n",
    "    \"f1\",\n",
    "    \"train_time\",\n",
    "    \"test_time\",\n",
    "    \"storage\",\n",
    "]\n",
    "\n",
    "write_latex_table(\n",
    "    knn_results_hepatitis,\n",
    "    knn_columns,\n",
    "    \"knn_results_hepatitis\",\n",
    "    \"Results from KNN models for the hepatitis dataset\",\n",
    ")\n",
    "write_latex_table(\n",
    "    knn_results_mushroom,\n",
    "    knn_columns,\n",
    "    \"knn_results_mushroom\",\n",
    "    \"Results from KNN models for the mushroom dataset\",\n",
    ")\n",
    "write_latex_table(\n",
    "    svm_results_hepatitis,\n",
    "    svm_columns,\n",
    "    \"svm_results_hepatitis\",\n",
    "    \"Results from SVM models for the hepatitis dataset\",\n",
    ")\n",
    "write_latex_table(\n",
    "    svm_results_mushroom,\n",
    "    svm_columns,\n",
    "    \"svm_results_mushroom\",\n",
    "    \"Results from SVM models for the mushroom dataset\",\n",
    ")\n",
    "write_latex_table(\n",
    "    knn_reduction_results_hepatitis,\n",
    "    reduction_knn_columns,\n",
    "    \"knn_reduction_results_hepatitis\",\n",
    "    \"Results from KNN models for the hepatitis dataset with dimensionality reduction\",\n",
    ")\n",
    "write_latex_table(\n",
    "    knn_reduction_results_mushroom,\n",
    "    reduction_knn_columns,\n",
    "    \"knn_reduction_results_mushroom\",\n",
    "    \"Results from KNN models for the mushroom dataset with dimensionality reduction\",\n",
    ")"
   ]
  }
 ],
 "metadata": {
  "kernelspec": {
   "display_name": ".venv-iml",
   "language": "python",
   "name": "python3"
  },
  "language_info": {
   "codemirror_mode": {
    "name": "ipython",
    "version": 3
   },
   "file_extension": ".py",
   "mimetype": "text/x-python",
   "name": "python",
   "nbconvert_exporter": "python",
   "pygments_lexer": "ipython3",
   "version": "3.9.20"
  }
 },
 "nbformat": 4,
 "nbformat_minor": 2
}
