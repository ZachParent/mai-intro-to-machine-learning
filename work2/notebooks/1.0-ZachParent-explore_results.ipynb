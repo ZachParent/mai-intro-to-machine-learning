{
 "cells": [
  {
   "cell_type": "code",
   "execution_count": 1,
   "metadata": {},
   "outputs": [],
   "source": [
    "import numpy as np\n",
    "import pandas as pd\n",
    "import seaborn as sns\n",
    "import matplotlib.pyplot as plt"
   ]
  },
  {
   "cell_type": "code",
   "execution_count": 2,
   "metadata": {},
   "outputs": [],
   "source": [
    "knn_results_hepatitis = pd.read_csv(\"../data/results/knn_results_hepatitis.csv\")\n",
    "knn_results_mushroom = pd.read_csv(\"../data/results/knn_results_mushroom.csv\")\n",
    "knn_reduction_results_hepatitis = pd.read_csv(\n",
    "    \"../data/results/knn_reduction_results_hepatitis.csv\"\n",
    ")\n",
    "knn_reduction_results_mushroom = pd.read_csv(\"../data/results/knn_reduction_results_mushroom.csv\")\n",
    "svm_results_hepatitis = pd.read_csv(\"../data/results/svm_results_hepatitis.csv\")\n",
    "svm_results_mushroom = pd.read_csv(\"../data/results/svm_results_mushroom.csv\")"
   ]
  },
  {
   "cell_type": "code",
   "execution_count": 3,
   "metadata": {},
   "outputs": [
    {
     "data": {
      "text/plain": [
       "k                       108\n",
       "distance                108\n",
       "voting                  108\n",
       "weighting               108\n",
       "accuracy                108\n",
       "precision               108\n",
       "recall                  108\n",
       "f1                      108\n",
       "efficiency              108\n",
       "problem-solving time    108\n",
       "dtype: int64"
      ]
     },
     "execution_count": 3,
     "metadata": {},
     "output_type": "execute_result"
    }
   ],
   "source": [
    "knn_results_hepatitis.count()"
   ]
  },
  {
   "cell_type": "code",
   "execution_count": 4,
   "metadata": {},
   "outputs": [],
   "source": [
    "latex_table = (\n",
    "    knn_results_hepatitis.sort_values(by=\"f1\", ascending=False)\n",
    "    .reset_index(drop=True)\n",
    "    .assign(**{\"rank\": lambda x: x.index + 1})\n",
    "    [[\"rank\", \"k\", \"distance\", \"voting\", \"weighting\", \"accuracy\", \"f1\"]]\n",
    "    .head(10)\n",
    "    .to_latex(index=False, float_format=\"{:0.4f}\".format, caption=\"Results from KNN models for the hepatitis dataset\")\n",
    ")\n",
    "with open(\"../reports/tables/knn_results_hepatitis.tex\", \"w\") as f:\n",
    "    f.write(latex_table)"
   ]
  }
 ],
 "metadata": {
  "kernelspec": {
   "display_name": ".venv-iml",
   "language": "python",
   "name": "python3"
  },
  "language_info": {
   "codemirror_mode": {
    "name": "ipython",
    "version": 3
   },
   "file_extension": ".py",
   "mimetype": "text/x-python",
   "name": "python",
   "nbconvert_exporter": "python",
   "pygments_lexer": "ipython3",
   "version": "3.9.20"
  }
 },
 "nbformat": 4,
 "nbformat_minor": 2
}
