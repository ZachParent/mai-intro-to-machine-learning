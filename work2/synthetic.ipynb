{
 "cells": [
  {
   "cell_type": "code",
   "execution_count": 2,
   "metadata": {},
   "outputs": [],
   "source": [
    "import numpy as np\n",
    "import pandas as pd\n",
    "from sklearn.datasets import make_classification\n",
    "from sklearn.model_selection import cross_validate, StratifiedKFold\n",
    "\n",
    "from tools.distance import ManhattanDistance\n",
    "from tools.voting import MajorityClassVote\n",
    "from tools.knn import KNNClassifier"
   ]
  },
  {
   "cell_type": "code",
   "execution_count": 11,
   "metadata": {},
   "outputs": [
    {
     "name": "stdout",
     "output_type": "stream",
     "text": [
      "Mean: 0.931\n",
      "Std: 0.01868154169226937\n"
     ]
    }
   ],
   "source": [
    "\n",
    "X, y = make_classification(n_samples=1000, n_features=6, n_informative=3, n_redundant=2, n_repeated=0, n_classes=2, n_clusters_per_class=1)\n",
    "\n",
    "cv = StratifiedKFold(n_splits=10)\n",
    "knn = KNNClassifier(k=1, distance_func=ManhattanDistance(), voting_func=MajorityClassVote(), weights=np.ones(X.shape[1]))\n",
    "results = cross_validate(knn, X, y, cv=cv, scoring=\"accuracy\")\n",
    "scores = results[\"test_score\"]\n",
    "\n",
    "print(f\"Mean: {scores.mean()}\")\n",
    "print(f\"Std: {scores.std()}\")"
   ]
  }
 ],
 "metadata": {
  "kernelspec": {
   "display_name": ".venv-iml",
   "language": "python",
   "name": "python3"
  },
  "language_info": {
   "codemirror_mode": {
    "name": "ipython",
    "version": 3
   },
   "file_extension": ".py",
   "mimetype": "text/x-python",
   "name": "python",
   "nbconvert_exporter": "python",
   "pygments_lexer": "ipython3",
   "version": "3.9.20"
  }
 },
 "nbformat": 4,
 "nbformat_minor": 2
}
