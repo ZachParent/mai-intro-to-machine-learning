{
 "cells": [
  {
   "cell_type": "code",
   "execution_count": 1,
   "metadata": {},
   "outputs": [],
   "source": [
    "import numpy as np\n",
    "import pandas as pd\n",
    "from sklearn.datasets import make_classification\n",
    "from sklearn.model_selection import cross_validate, StratifiedKFold\n",
    "\n",
    "from tools.distance import ManhattanDistance\n",
    "from tools.voting import InverseDistanceWeightedVote, ShepardsWorkVote\n",
    "from tools.knn import KNNClassifier"
   ]
  },
  {
   "cell_type": "code",
   "execution_count": 9,
   "metadata": {},
   "outputs": [
    {
     "name": "stdout",
     "output_type": "stream",
     "text": [
      "Mean: 0.858\n",
      "Std: 0.02400000000000002\n"
     ]
    }
   ],
   "source": [
    "X, y = make_classification(\n",
    "    n_samples=1000,\n",
    "    n_features=6,\n",
    "    n_informative=3,\n",
    "    n_redundant=2,\n",
    "    n_repeated=0,\n",
    "    n_classes=2,\n",
    "    n_clusters_per_class=1,\n",
    "    random_state=42,\n",
    ")\n",
    "\n",
    "cv = StratifiedKFold(n_splits=10)\n",
    "knn = KNNClassifier(\n",
    "    k=5,\n",
    "    distance_func=ManhattanDistance(),\n",
    "    voting_func=ShepardsWorkVote(),\n",
    "    weights=np.ones(X.shape[1]),\n",
    ")\n",
    "results = cross_validate(knn, X, y, cv=cv, scoring=\"accuracy\")\n",
    "scores = results[\"test_score\"]\n",
    "\n",
    "print(f\"Mean: {scores.mean()}\")\n",
    "print(f\"Std: {scores.std()}\")"
   ]
  }
 ],
 "metadata": {
  "kernelspec": {
   "display_name": ".venv-iml",
   "language": "python",
   "name": "python3"
  },
  "language_info": {
   "codemirror_mode": {
    "name": "ipython",
    "version": 3
   },
   "file_extension": ".py",
   "mimetype": "text/x-python",
   "name": "python",
   "nbconvert_exporter": "python",
   "pygments_lexer": "ipython3",
   "version": "3.9.20"
  }
 },
 "nbformat": 4,
 "nbformat_minor": 2
}
